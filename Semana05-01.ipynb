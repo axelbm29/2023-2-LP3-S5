{
 "cells": [
  {
   "cell_type": "markdown",
   "id": "ad94fed9",
   "metadata": {},
   "source": [
    "# Semana 05\n",
    "Mg. Flor Elizabeth Cerdán León"
   ]
  },
  {
   "cell_type": "raw",
   "id": "d41ea06e",
   "metadata": {},
   "source": [
    "Temas:\n",
    "    1. Colecciones de Datos\n",
    "    2. Estructuras discretas\n",
    "    3. Clases y objetos\n",
    "    4. Funciones"
   ]
  },
  {
   "cell_type": "code",
   "execution_count": 2,
   "id": "915de58f",
   "metadata": {},
   "outputs": [],
   "source": [
    "# 2.1 eSTRUCTURAS DECISIVAS (IF, ELIF, ELSE)"
   ]
  },
  {
   "cell_type": "code",
   "execution_count": 3,
   "id": "323dd7bd",
   "metadata": {},
   "outputs": [],
   "source": [
    "# IF:\n",
    "# Problema: Dado el problema de 3 productos ingresados por el teclado.\n",
    "# Aplicar un descuento del 10% si la \n",
    "# venta es mayor o igual a 1000"
   ]
  },
  {
   "cell_type": "code",
   "execution_count": 7,
   "id": "32467fa5",
   "metadata": {},
   "outputs": [
    {
     "name": "stdout",
     "output_type": "stream",
     "text": [
      "Producto 1: 500\n",
      "Producto 2: 500\n",
      "Producto 3: 400\n",
      "El total a pagar es: 1260.0\n"
     ]
    }
   ],
   "source": [
    "# Solucion\n",
    "p1 = float(input(\"Producto 1: \"))\n",
    "p2 = float(input(\"Producto 2: \"))\n",
    "p3 = float(input(\"Producto 3: \"))\n",
    "total = p1 + p2 + p3\n",
    "if(total >= 1000):\n",
    "    total *= 0.9\n",
    "print(f\"El total a pagar es: {total}\")"
   ]
  },
  {
   "cell_type": "code",
   "execution_count": 10,
   "id": "66d31803",
   "metadata": {},
   "outputs": [
    {
     "name": "stdout",
     "output_type": "stream",
     "text": [
      "Ingrese el nombre a buscar: cama\n",
      "No esta en la lista de LP3\n"
     ]
    }
   ],
   "source": [
    "lista = [\"ASUNCION\", \"BARZOLA\", \"CAMAN\", \"CURO\", \"INCA\", \"SAHUMA\", \"TALLEDO\", \"URBISAGASTEGUI\"]\n",
    "\n",
    "apellido = input(\"Ingrese el nombre a buscar: \")\n",
    "\n",
    "#COMO LOS DATOS EN LA LISTA ESTAN EN MAYUSCULA, USAR UPPER()\n",
    "if apellido.upper() in lista:\n",
    "    print(\"Si esta en la lista de LP3\")\n",
    "else:\n",
    "    print(\"No esta en la lista de LP3\")"
   ]
  },
  {
   "cell_type": "code",
   "execution_count": 11,
   "id": "a2447f75",
   "metadata": {},
   "outputs": [],
   "source": [
    "# PROBLEMA 02\n",
    "# Dado el importe total de ventas realizadas por un trabajador (ingresado por teclado,\n",
    "# categorizar que tipo de empleado es, considerando la siguiente tabla\n",
    "\n",
    "# CATEGORIA A -> [0, 1000]\n",
    "# CATEGORIA B -> [1000, 2000]\n",
    "# CATEGORIA C -> [2000, 5000]\n",
    "# CATEGORIA D -> [5000, MAS]"
   ]
  },
  {
   "cell_type": "code",
   "execution_count": 16,
   "id": "7db3c9d9",
   "metadata": {},
   "outputs": [
    {
     "name": "stdout",
     "output_type": "stream",
     "text": [
      "Importe total: 1000\n",
      "Categoria A\n",
      "Importe total: 50001\n",
      "Categoria D\n"
     ]
    }
   ],
   "source": [
    "importe = float(input(\"Importe total: \"))\n",
    "if importe < 0:\n",
    "    print(\"Datos erroneos\")\n",
    "else:\n",
    "    if importe <= 1000:\n",
    "        print(\"Categoria A\")\n",
    "    else:\n",
    "        if importe <= 2000:\n",
    "            print(\"Categoria B\")\n",
    "        else:\n",
    "            if importe <= 5000:\n",
    "                print(\"Categoria C\")\n",
    "            else:\n",
    "                print(\"Categoria D\")\n",
    "\n",
    "importe2 = float(input(\"Importe total: \"))\n",
    "if importe2 < 0:\n",
    "    print(\"Datos erroneos\")\n",
    "elif importe2 <= 1000:\n",
    "    print(\"Categoria A\")\n",
    "elif importe2 <= 2000:\n",
    "    print(\"Categoria B\")\n",
    "elif importe2 <= 5000:\n",
    "    print(\"Categoria C\")\n",
    "elif importe2 > 5000:\n",
    "    print(\"Categoria D\")"
   ]
  },
  {
   "cell_type": "code",
   "execution_count": 17,
   "id": "079622ec",
   "metadata": {},
   "outputs": [
    {
     "name": "stdout",
     "output_type": "stream",
     "text": [
      "Inca\n",
      "Barzola\n",
      "Urbisagastegui\n",
      "Caman\n"
     ]
    }
   ],
   "source": [
    "# SOLUCION\n",
    "aula = [\"Inca\", \"Barzola\", \"Urbisagastegui\", \"Caman\"]\n",
    "\n",
    "# Por cada alumno que esta en la lista, imprimir alumno\n",
    "for alumno in aula:\n",
    "    print(alumno)"
   ]
  },
  {
   "cell_type": "code",
   "execution_count": 18,
   "id": "87cef8d7",
   "metadata": {},
   "outputs": [
    {
     "name": "stdout",
     "output_type": "stream",
     "text": [
      "Ingrese cadena:hola\n",
      "h\n",
      "o\n",
      "l\n",
      "a\n"
     ]
    }
   ],
   "source": [
    "cadena = input(\"Ingrese cadena:\")\n",
    "for caracter in cadena:\n",
    "    print(caracter)"
   ]
  },
  {
   "cell_type": "code",
   "execution_count": 20,
   "id": "79631ca5",
   "metadata": {},
   "outputs": [
    {
     "name": "stdout",
     "output_type": "stream",
     "text": [
      "0\n",
      "1\n",
      "2\n",
      "3\n",
      "4\n"
     ]
    }
   ],
   "source": [
    "# Para generar rangos de numeros utilizamos range()\n",
    "for i in range(5):\n",
    "    print(i)"
   ]
  },
  {
   "cell_type": "code",
   "execution_count": 23,
   "id": "c7d84515",
   "metadata": {},
   "outputs": [
    {
     "name": "stdout",
     "output_type": "stream",
     "text": [
      "0\n",
      "1\n",
      "2\n",
      "3\n",
      "4\n",
      "5\n",
      "6\n",
      "7\n",
      "8\n",
      "9\n",
      "10\n"
     ]
    }
   ],
   "source": [
    "for num in range(11):\n",
    "    print(num)"
   ]
  },
  {
   "cell_type": "code",
   "execution_count": 24,
   "id": "83ca2c11",
   "metadata": {},
   "outputs": [
    {
     "name": "stdout",
     "output_type": "stream",
     "text": [
      "5\n",
      "6\n",
      "7\n",
      "8\n",
      "9\n",
      "10\n"
     ]
    }
   ],
   "source": [
    "for num in range(5, 11):\n",
    "    print(num)"
   ]
  },
  {
   "cell_type": "code",
   "execution_count": 25,
   "id": "ea18be4d",
   "metadata": {},
   "outputs": [
    {
     "name": "stdout",
     "output_type": "stream",
     "text": [
      "10\n",
      "12\n",
      "14\n",
      "16\n",
      "18\n",
      "20\n"
     ]
    }
   ],
   "source": [
    "for num in range(10, 22, 2):\n",
    "    print(num)"
   ]
  },
  {
   "cell_type": "code",
   "execution_count": 26,
   "id": "f01fce6d",
   "metadata": {},
   "outputs": [],
   "source": [
    "# WHILE"
   ]
  },
  {
   "cell_type": "code",
   "execution_count": null,
   "id": "378bdfb9",
   "metadata": {},
   "outputs": [],
   "source": [
    "# EJEMPLO\n",
    "inicio = 1\n",
    "fin = 10\n",
    "while numero <= fin:\n",
    "    print(numero)\n",
    "    numero += 1"
   ]
  },
  {
   "cell_type": "code",
   "execution_count": null,
   "id": "4ff9085a",
   "metadata": {},
   "outputs": [],
   "source": []
  }
 ],
 "metadata": {
  "kernelspec": {
   "display_name": "Python 3 (ipykernel)",
   "language": "python",
   "name": "python3"
  },
  "language_info": {
   "codemirror_mode": {
    "name": "ipython",
    "version": 3
   },
   "file_extension": ".py",
   "mimetype": "text/x-python",
   "name": "python",
   "nbconvert_exporter": "python",
   "pygments_lexer": "ipython3",
   "version": "3.9.13"
  }
 },
 "nbformat": 4,
 "nbformat_minor": 5
}
