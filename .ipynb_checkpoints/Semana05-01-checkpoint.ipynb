{
 "cells": [
  {
   "cell_type": "markdown",
   "id": "a7bd27af",
   "metadata": {},
   "source": [
    "# Semana 05\n",
    "Mg. Flor Elizabeth Cerdán León"
   ]
  },
  {
   "cell_type": "raw",
   "id": "a95d5637",
   "metadata": {},
   "source": [
    "Temas:\n",
    "    1. Colecciones de Datos\n",
    "    2. Estructuras discretas\n",
    "    3. Clases y objetos\n",
    "    4. Funciones"
   ]
  },
  {
   "cell_type": "code",
   "execution_count": 2,
   "id": "b3116d84",
   "metadata": {},
   "outputs": [],
   "source": [
    "# 2.1 eSTRUCTURAS DECISIVAS (IF, ELIF, ELSE)"
   ]
  },
  {
   "cell_type": "code",
   "execution_count": 3,
   "id": "b383bc71",
   "metadata": {},
   "outputs": [],
   "source": [
    "# IF:\n",
    "# Problema: Dado el problema de 3 productos ingresados por el teclado.\n",
    "# Aplicar un descuento del 10% si la \n",
    "# venta es mayor o igual a 1000"
   ]
  },
  {
   "cell_type": "code",
   "execution_count": 4,
   "id": "8490c8c6",
   "metadata": {},
   "outputs": [
    {
     "name": "stdout",
     "output_type": "stream",
     "text": [
      "Producto 1: 500\n",
      "Producto 2: 500\n",
      "Producto 3: 120\n",
      "El total a pagar es: (total)\n"
     ]
    }
   ],
   "source": [
    "# Solucion\n",
    "p1 = float(input(\"Producto 1: \"))\n",
    "p2 = float(input(\"Producto 2: \"))\n",
    "p3 = float(input(\"Producto 3: \"))\n",
    "total = p1 + p2 + p3\n",
    "if(total >= 1000):\n",
    "    total *= 0.9\n",
    "print(\"El total a pagar es: \", total)"
   ]
  },
  {
   "cell_type": "code",
   "execution_count": null,
   "id": "555e96f3",
   "metadata": {},
   "outputs": [],
   "source": []
  }
 ],
 "metadata": {
  "kernelspec": {
   "display_name": "Python 3 (ipykernel)",
   "language": "python",
   "name": "python3"
  },
  "language_info": {
   "codemirror_mode": {
    "name": "ipython",
    "version": 3
   },
   "file_extension": ".py",
   "mimetype": "text/x-python",
   "name": "python",
   "nbconvert_exporter": "python",
   "pygments_lexer": "ipython3",
   "version": "3.9.13"
  }
 },
 "nbformat": 4,
 "nbformat_minor": 5
}
