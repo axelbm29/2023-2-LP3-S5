{
 "cells": [
  {
   "cell_type": "markdown",
   "id": "cfc95d5f",
   "metadata": {},
   "source": [
    "# Semana 05\n",
    "Axel Barzola Mendoza"
   ]
  },
  {
   "cell_type": "raw",
   "id": "c3004fc2",
   "metadata": {},
   "source": [
    "Temas:\n",
    "    1. Colecciones de Datos\n",
    "    2. Estructuras discretas\n",
    "    3. Clases y objetos\n",
    "    4. Funciones"
   ]
  },
  {
   "cell_type": "markdown",
   "id": "9c490c9e",
   "metadata": {},
   "source": [
    "3. Funciones"
   ]
  },
  {
   "cell_type": "code",
   "execution_count": 1,
   "id": "872467df",
   "metadata": {},
   "outputs": [],
   "source": [
    "# Tambien conocidos como metodos\n",
    "\n",
    "# Para crear un metodo utilizamos: def\n",
    "# Tenemos 4 metodos:\n",
    "#   Metodos vacios\n",
    "#   Metodos qye reciben valores\n",
    "#   Metodos que devuelven un valor\n",
    "#   Metodos que reciben y devuelven valores"
   ]
  },
  {
   "cell_type": "code",
   "execution_count": 2,
   "id": "51090a28",
   "metadata": {},
   "outputs": [],
   "source": [
    "# 3.1 Metodos vacios\n",
    "# Exlpicacion: Nop recibe valores (Parametros)"
   ]
  },
  {
   "cell_type": "code",
   "execution_count": 3,
   "id": "51e74051",
   "metadata": {},
   "outputs": [],
   "source": [
    "def saludo():\n",
    "    print(\"Bienvenidos al curso de LP3\")\n",
    "    print(\"**** Python ****\")"
   ]
  },
  {
   "cell_type": "code",
   "execution_count": 4,
   "id": "0c1d85a1",
   "metadata": {},
   "outputs": [
    {
     "name": "stdout",
     "output_type": "stream",
     "text": [
      "Bienvenidos al curso de LP3\n",
      "**** Python ****\n"
     ]
    }
   ],
   "source": [
    "saludo()"
   ]
  },
  {
   "cell_type": "code",
   "execution_count": 8,
   "id": "5afe1a60",
   "metadata": {},
   "outputs": [],
   "source": [
    "# 3.2 Metodos que reciben valores\n",
    "\n",
    "def factorial(numero):\n",
    "    fac = 1\n",
    "    for i in range(1, numero+1):\n",
    "        fac *= i\n",
    "    print(f\"El factorial es: {fac}\")"
   ]
  },
  {
   "cell_type": "code",
   "execution_count": 9,
   "id": "8796bb5e",
   "metadata": {},
   "outputs": [
    {
     "name": "stdout",
     "output_type": "stream",
     "text": [
      "Ingrese un numero: 4\n",
      "El factorial es: 24\n"
     ]
    }
   ],
   "source": [
    "numero = int(input(\"Ingrese un numero: \"))\n",
    "factorial(numero)"
   ]
  },
  {
   "cell_type": "code",
   "execution_count": 10,
   "id": "72e47905",
   "metadata": {},
   "outputs": [],
   "source": [
    "# 3.3 Metodos que devuelven valores\n",
    "def saludo2():\n",
    "    mensaje = \"Bienvenidos a LP3\"\n",
    "    return mensaje"
   ]
  },
  {
   "cell_type": "code",
   "execution_count": 11,
   "id": "801a524e",
   "metadata": {},
   "outputs": [
    {
     "name": "stdout",
     "output_type": "stream",
     "text": [
      "Bienvenidos a LP3\n"
     ]
    }
   ],
   "source": [
    "print(saludo2())"
   ]
  },
  {
   "cell_type": "code",
   "execution_count": 12,
   "id": "b05db822",
   "metadata": {},
   "outputs": [],
   "source": [
    "# 3.4 Metodos que reciben y devuelven valores\n",
    "\n",
    "def factorial2(numero):\n",
    "    fac = 1\n",
    "    for i in range(1, numero+1):\n",
    "        fac *= i\n",
    "    return fac"
   ]
  },
  {
   "cell_type": "code",
   "execution_count": 14,
   "id": "435133c0",
   "metadata": {},
   "outputs": [
    {
     "name": "stdout",
     "output_type": "stream",
     "text": [
      "Ingrese un numero: 4\n",
      "El factorial de 4 es 24\n"
     ]
    }
   ],
   "source": [
    "numero = int(input(\"Ingrese un numero: \"))\n",
    "print(f\"El factorial de {numero} es {factorial2(numero)}\")"
   ]
  },
  {
   "cell_type": "code",
   "execution_count": null,
   "id": "c5d26a41",
   "metadata": {},
   "outputs": [],
   "source": []
  }
 ],
 "metadata": {
  "kernelspec": {
   "display_name": "Python 3 (ipykernel)",
   "language": "python",
   "name": "python3"
  },
  "language_info": {
   "codemirror_mode": {
    "name": "ipython",
    "version": 3
   },
   "file_extension": ".py",
   "mimetype": "text/x-python",
   "name": "python",
   "nbconvert_exporter": "python",
   "pygments_lexer": "ipython3",
   "version": "3.9.13"
  }
 },
 "nbformat": 4,
 "nbformat_minor": 5
}
