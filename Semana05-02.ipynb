{
 "cells": [
  {
   "cell_type": "markdown",
   "id": "194c5deb",
   "metadata": {},
   "source": [
    "# Semana 05\n",
    "Axel Barzola Mendoza"
   ]
  },
  {
   "cell_type": "raw",
   "id": "135b4b0b",
   "metadata": {},
   "source": [
    "Temas:\n",
    "    1. Colecciones de Datos\n",
    "    2. Estructuras discretas\n",
    "    3. Clases y objetos\n",
    "    4. Funciones"
   ]
  },
  {
   "cell_type": "markdown",
   "id": "14fd3548",
   "metadata": {},
   "source": [
    "3. Funciones"
   ]
  },
  {
   "cell_type": "code",
   "execution_count": 1,
   "id": "b41ac293",
   "metadata": {},
   "outputs": [],
   "source": [
    "# Tambien conocidos como metodos\n",
    "\n",
    "# Para crear un metodo utilizamos: def\n",
    "# Tenemos 4 metodos:\n",
    "#   Metodos vacios\n",
    "#   Metodos qye reciben valores\n",
    "#   Metodos que devuelven un valor\n",
    "#   Metodos que reciben y devuelven valores"
   ]
  },
  {
   "cell_type": "code",
   "execution_count": 2,
   "id": "9b1fee8c",
   "metadata": {},
   "outputs": [],
   "source": [
    "# 3.1 Metodos vacios\n",
    "# Exlpicacion: Nop recibe valores (Parametros)"
   ]
  },
  {
   "cell_type": "code",
   "execution_count": 3,
   "id": "00f230a1",
   "metadata": {},
   "outputs": [],
   "source": [
    "def saludo():\n",
    "    print(\"Bienvenidos al curso de LP3\")\n",
    "    print(\"**** Python ****\")"
   ]
  },
  {
   "cell_type": "code",
   "execution_count": 4,
   "id": "63b7b1be",
   "metadata": {},
   "outputs": [
    {
     "name": "stdout",
     "output_type": "stream",
     "text": [
      "Bienvenidos al curso de LP3\n",
      "**** Python ****\n"
     ]
    }
   ],
   "source": [
    "saludo()"
   ]
  },
  {
   "cell_type": "code",
   "execution_count": 8,
   "id": "c3f66d50",
   "metadata": {},
   "outputs": [],
   "source": [
    "# 3.2 Metodos que reciben valores\n",
    "\n",
    "def factorial(numero):\n",
    "    fac = 1\n",
    "    for i in range(1, numero+1):\n",
    "        fac *= i\n",
    "    print(f\"El factorial es: {fac}\")"
   ]
  },
  {
   "cell_type": "code",
   "execution_count": 9,
   "id": "d7c2b548",
   "metadata": {},
   "outputs": [
    {
     "name": "stdout",
     "output_type": "stream",
     "text": [
      "Ingrese un numero: 4\n",
      "El factorial es: 24\n"
     ]
    }
   ],
   "source": [
    "numero = int(input(\"Ingrese un numero: \"))\n",
    "factorial(numero)"
   ]
  },
  {
   "cell_type": "code",
   "execution_count": 10,
   "id": "9e2e08de",
   "metadata": {},
   "outputs": [],
   "source": [
    "# 3.3 Metodos que devuelven valores\n",
    "def saludo2():\n",
    "    mensaje = \"Bienvenidos a LP3\"\n",
    "    return mensaje"
   ]
  },
  {
   "cell_type": "code",
   "execution_count": 11,
   "id": "f41ea766",
   "metadata": {},
   "outputs": [
    {
     "name": "stdout",
     "output_type": "stream",
     "text": [
      "Bienvenidos a LP3\n"
     ]
    }
   ],
   "source": [
    "print(saludo2())"
   ]
  },
  {
   "cell_type": "code",
   "execution_count": 12,
   "id": "d713c00c",
   "metadata": {},
   "outputs": [],
   "source": [
    "# 3.4 Metodos que reciben y devuelven valores\n",
    "\n",
    "def factorial2(numero):\n",
    "    fac = 1\n",
    "    for i in range(1, numero+1):\n",
    "        fac *= i\n",
    "    return fac"
   ]
  },
  {
   "cell_type": "code",
   "execution_count": 14,
   "id": "ad48ff5e",
   "metadata": {},
   "outputs": [
    {
     "name": "stdout",
     "output_type": "stream",
     "text": [
      "Ingrese un numero: 4\n",
      "El factorial de 4 es 24\n"
     ]
    }
   ],
   "source": [
    "numero = int(input(\"Ingrese un numero: \"))\n",
    "print(f\"El factorial de {numero} es {factorial2(numero)}\")"
   ]
  },
  {
   "cell_type": "code",
   "execution_count": 15,
   "id": "3c9248c7",
   "metadata": {},
   "outputs": [],
   "source": [
    "# Otro ejemplo\n",
    "# Calcular el IGV\n",
    "def obtenerIGV(importe):\n",
    "    return importe * 0.18"
   ]
  },
  {
   "cell_type": "code",
   "execution_count": 16,
   "id": "6d424892",
   "metadata": {},
   "outputs": [
    {
     "data": {
      "text/plain": [
       "18.0"
      ]
     },
     "execution_count": 16,
     "metadata": {},
     "output_type": "execute_result"
    }
   ],
   "source": [
    "obtenerIGV(100)"
   ]
  },
  {
   "cell_type": "code",
   "execution_count": 17,
   "id": "3c4a4dc0",
   "metadata": {},
   "outputs": [
    {
     "data": {
      "text/plain": [
       "140"
      ]
     },
     "execution_count": 17,
     "metadata": {},
     "output_type": "execute_result"
    }
   ],
   "source": [
    "factorial2(5)+20"
   ]
  },
  {
   "cell_type": "code",
   "execution_count": null,
   "id": "f114963f",
   "metadata": {},
   "outputs": [],
   "source": []
  }
 ],
 "metadata": {
  "kernelspec": {
   "display_name": "Python 3 (ipykernel)",
   "language": "python",
   "name": "python3"
  },
  "language_info": {
   "codemirror_mode": {
    "name": "ipython",
    "version": 3
   },
   "file_extension": ".py",
   "mimetype": "text/x-python",
   "name": "python",
   "nbconvert_exporter": "python",
   "pygments_lexer": "ipython3",
   "version": "3.9.13"
  }
 },
 "nbformat": 4,
 "nbformat_minor": 5
}
