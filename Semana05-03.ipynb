{
 "cells": [
  {
   "cell_type": "markdown",
   "id": "12321640",
   "metadata": {},
   "source": [
    "# Semana 05\n",
    "Axel Barzola Mendoza"
   ]
  },
  {
   "cell_type": "raw",
   "id": "51c020ee",
   "metadata": {},
   "source": [
    "Temas:\n",
    "    1. Colecciones de Datos\n",
    "    2. Estructuras discretas\n",
    "    3. Clases y objetos\n",
    "    4. Funciones"
   ]
  },
  {
   "cell_type": "raw",
   "id": "c2b3e8b7",
   "metadata": {},
   "source": [
    "3. Clases y objetos"
   ]
  },
  {
   "cell_type": "code",
   "execution_count": 2,
   "id": "83f463f6",
   "metadata": {},
   "outputs": [],
   "source": [
    "# Problema 01\n",
    "\n",
    "# Crear la siguiente clase:\n",
    "#     Clase: Persona\n",
    "#     Atributos: nombre, apellido, fecha_nacimiento, dni"
   ]
  },
  {
   "cell_type": "code",
   "execution_count": 3,
   "id": "23bac544",
   "metadata": {},
   "outputs": [],
   "source": [
    "class Persona:\n",
    "    nombre = \"\"\n",
    "    apellidos = \"\"\n",
    "    dni = \"\"\n",
    "    talla = 0"
   ]
  },
  {
   "cell_type": "code",
   "execution_count": 4,
   "id": "b12c2747",
   "metadata": {},
   "outputs": [],
   "source": [
    "# Creamos un objeto personal de la clase persona()\n",
    "# y le asignamos valores\n",
    "\n",
    "# Creacion del objeto persona1\n",
    "persona1 = Persona()"
   ]
  },
  {
   "cell_type": "code",
   "execution_count": 5,
   "id": "64aad469",
   "metadata": {},
   "outputs": [],
   "source": [
    "# Asignamos valores al objeto\n",
    "persona1.nombre = \"Axel\"\n",
    "persona1.apellidos = \"Barzola Mendoza\"\n",
    "persona1.dni = \"78149809\"\n",
    "persona1.talla = 1.78"
   ]
  },
  {
   "cell_type": "code",
   "execution_count": 6,
   "id": "4fce602a",
   "metadata": {},
   "outputs": [
    {
     "name": "stdout",
     "output_type": "stream",
     "text": [
      "persona1\n",
      "Nombre: Axel\n",
      "Apellidos: Barzola Mendoza\n",
      "DNI: 78149809\n",
      "Talla: 1.78\n"
     ]
    }
   ],
   "source": [
    "# Para mostrar valores del objeto:\n",
    "print(\"persona1\")\n",
    "print(f\"Nombre: {persona1.nombre}\")\n",
    "print(f\"Apellidos: {persona1.apellidos}\")\n",
    "print(f\"DNI: {persona1.dni}\")\n",
    "print(f\"Talla: {persona1.talla}\")"
   ]
  },
  {
   "cell_type": "code",
   "execution_count": 7,
   "id": "d503a2e2",
   "metadata": {},
   "outputs": [],
   "source": [
    "# Para utilizar constructures utilizamos: _init_\n",
    "# ¿Que es un constructor?\n",
    "#   Es un metodo\n",
    "#   Sirve para inicializar valores a una clase"
   ]
  },
  {
   "cell_type": "code",
   "execution_count": 8,
   "id": "b042649f",
   "metadata": {},
   "outputs": [],
   "source": [
    "# Problema 02:\n",
    "\n",
    "# Crear la siguiente clase y utilizar constructores:\n",
    "#    Clase: Curso\n",
    "#    Atributos: Codigo, Nombre, horas, creditos"
   ]
  },
  {
   "cell_type": "code",
   "execution_count": 11,
   "id": "28bd8b50",
   "metadata": {},
   "outputs": [],
   "source": [
    "# Solucion:\n",
    "class curso:\n",
    "    def _init_ (self, codigo, nombre, horas, creditos):\n",
    "        self.codigo = codigo\n",
    "        self.nombre = nombre\n",
    "        self.horas = horas\n",
    "        self.creditos = creditos\n",
    "    def mostrar_datos_curso(self):\n",
    "        print(f\"Curso: {self.nombre}\")\n",
    "        print(f\"Codigo: {self.codigo}\")\n",
    "        print(f\"Horas: {self.horas}\")\n",
    "        print(f\"Creditos: {self.creditos}\")"
   ]
  },
  {
   "cell_type": "code",
   "execution_count": 15,
   "id": "49b9a0ea",
   "metadata": {},
   "outputs": [
    {
     "ename": "TypeError",
     "evalue": "curso() takes no arguments",
     "output_type": "error",
     "traceback": [
      "\u001b[1;31m---------------------------------------------------------------------------\u001b[0m",
      "\u001b[1;31mTypeError\u001b[0m                                 Traceback (most recent call last)",
      "\u001b[1;32m~\\AppData\\Local\\Temp\\ipykernel_10624\\207332520.py\u001b[0m in \u001b[0;36m<module>\u001b[1;34m\u001b[0m\n\u001b[0;32m      1\u001b[0m \u001b[1;31m# Creamos el objeto curso1 y le mandamos parametros\u001b[0m\u001b[1;33m\u001b[0m\u001b[1;33m\u001b[0m\u001b[0m\n\u001b[1;32m----> 2\u001b[1;33m \u001b[0mcurso1\u001b[0m \u001b[1;33m=\u001b[0m \u001b[0mcurso\u001b[0m\u001b[1;33m(\u001b[0m\u001b[1;34m\"C0501\"\u001b[0m\u001b[1;33m,\u001b[0m \u001b[1;34m\"LP3\"\u001b[0m\u001b[1;33m,\u001b[0m \u001b[1;36m6\u001b[0m\u001b[1;33m,\u001b[0m \u001b[1;36m3\u001b[0m\u001b[1;33m)\u001b[0m\u001b[1;33m\u001b[0m\u001b[1;33m\u001b[0m\u001b[0m\n\u001b[0m",
      "\u001b[1;31mTypeError\u001b[0m: curso() takes no arguments"
     ]
    }
   ],
   "source": [
    "# Creamos el objeto curso1 y le mandamos parametros\n",
    "curso1 = curso(\"C0501\", \"LP3\", 6, 3)"
   ]
  },
  {
   "cell_type": "code",
   "execution_count": null,
   "id": "0eae73f3",
   "metadata": {},
   "outputs": [],
   "source": []
  }
 ],
 "metadata": {
  "kernelspec": {
   "display_name": "Python 3 (ipykernel)",
   "language": "python",
   "name": "python3"
  },
  "language_info": {
   "codemirror_mode": {
    "name": "ipython",
    "version": 3
   },
   "file_extension": ".py",
   "mimetype": "text/x-python",
   "name": "python",
   "nbconvert_exporter": "python",
   "pygments_lexer": "ipython3",
   "version": "3.9.13"
  }
 },
 "nbformat": 4,
 "nbformat_minor": 5
}
